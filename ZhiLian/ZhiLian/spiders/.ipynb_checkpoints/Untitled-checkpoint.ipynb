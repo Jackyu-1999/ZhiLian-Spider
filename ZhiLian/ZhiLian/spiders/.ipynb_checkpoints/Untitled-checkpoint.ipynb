{
 "cells": [
  {
   "cell_type": "code",
   "execution_count": 1,
   "metadata": {},
   "outputs": [],
   "source": [
    "import pandas as pd \n",
    "import numpy as np \n",
    "import re\n",
    "import pymongo\n",
    "\n",
    "from pyecharts.charts import Pie, Bar, Map, WordCloud,Line,Grid,Scatter,Radar,Page \n",
    "from pyecharts import options as opts\n",
    "from pyecharts.globals import SymbolType\n",
    "from pyecharts.globals import ThemeType"
   ]
  },
  {
   "cell_type": "code",
   "execution_count": 2,
   "metadata": {},
   "outputs": [],
   "source": [
    "client = pymongo.MongoClient('localhost', 27017)\n",
    "db = client['data']\n",
    "job_data = db['info']\n",
    "data = pd.DataFrame(list(job_data.find()))"
   ]
  },
  {
   "cell_type": "code",
   "execution_count": 3,
   "metadata": {},
   "outputs": [
    {
     "data": {
      "text/html": [
       "<div>\n",
       "<style scoped>\n",
       "    .dataframe tbody tr th:only-of-type {\n",
       "        vertical-align: middle;\n",
       "    }\n",
       "\n",
       "    .dataframe tbody tr th {\n",
       "        vertical-align: top;\n",
       "    }\n",
       "\n",
       "    .dataframe thead th {\n",
       "        text-align: right;\n",
       "    }\n",
       "</style>\n",
       "<table border=\"1\" class=\"dataframe\">\n",
       "  <thead>\n",
       "    <tr style=\"text-align: right;\">\n",
       "      <th></th>\n",
       "      <th>职位名称</th>\n",
       "      <th>公司名称</th>\n",
       "      <th>工作城市</th>\n",
       "      <th>薪资范围</th>\n",
       "      <th>学历要求</th>\n",
       "      <th>公司类型</th>\n",
       "      <th>公司规模</th>\n",
       "      <th>职位类别</th>\n",
       "      <th>工作经验</th>\n",
       "      <th>福利待遇</th>\n",
       "    </tr>\n",
       "  </thead>\n",
       "  <tbody>\n",
       "    <tr>\n",
       "      <td>0</td>\n",
       "      <td>在家作业/网上兼职/线上操作</td>\n",
       "      <td>中环汇峰环境科技(北京)有限公司</td>\n",
       "      <td>北京</td>\n",
       "      <td>8千-1万</td>\n",
       "      <td>初中及以下</td>\n",
       "      <td>其它</td>\n",
       "      <td>20人以下</td>\n",
       "      <td>技工/操作工</td>\n",
       "      <td>不限</td>\n",
       "      <td>五险一金,加班补助,全勤奖,绩效奖金</td>\n",
       "    </tr>\n",
       "    <tr>\n",
       "      <td>1</td>\n",
       "      <td>送货司机</td>\n",
       "      <td>中融永信(北京)投资管理有限公司</td>\n",
       "      <td>北京</td>\n",
       "      <td>4千-6千</td>\n",
       "      <td>初中及以下</td>\n",
       "      <td>其它</td>\n",
       "      <td>500-999人</td>\n",
       "      <td>技工/操作工</td>\n",
       "      <td>1-3年</td>\n",
       "      <td>包吃,包住,节日福利,带薪年假,上六休一</td>\n",
       "    </tr>\n",
       "    <tr>\n",
       "      <td>2</td>\n",
       "      <td>警卫</td>\n",
       "      <td>美国驻华大使馆</td>\n",
       "      <td>北京</td>\n",
       "      <td>6千-8千</td>\n",
       "      <td>初中及以下</td>\n",
       "      <td>国家机关</td>\n",
       "      <td>100-299人</td>\n",
       "      <td>行政/后勤/文秘</td>\n",
       "      <td>1年以下</td>\n",
       "      <td>五险一金,加班补助,带薪年假</td>\n",
       "    </tr>\n",
       "    <tr>\n",
       "      <td>3</td>\n",
       "      <td>Bodyguard</td>\n",
       "      <td>美国驻华大使馆</td>\n",
       "      <td>北京</td>\n",
       "      <td>8千-1万</td>\n",
       "      <td>初中及以下</td>\n",
       "      <td>国家机关</td>\n",
       "      <td>100-299人</td>\n",
       "      <td>社区/居民/家政服务</td>\n",
       "      <td>3-5年</td>\n",
       "      <td>五险一金,带薪年假,年底双薪,补充医疗保险,定期体检,不加班,周末双休,试用期全额</td>\n",
       "    </tr>\n",
       "    <tr>\n",
       "      <td>4</td>\n",
       "      <td>在家作业/网上兼职/线上操作</td>\n",
       "      <td>中环汇峰环境科技(北京)有限公司</td>\n",
       "      <td>北京</td>\n",
       "      <td>8千-1万</td>\n",
       "      <td>初中及以下</td>\n",
       "      <td>其它</td>\n",
       "      <td>20人以下</td>\n",
       "      <td>技工/操作工</td>\n",
       "      <td>不限</td>\n",
       "      <td>五险一金,加班补助,全勤奖,绩效奖金</td>\n",
       "    </tr>\n",
       "  </tbody>\n",
       "</table>\n",
       "</div>"
      ],
      "text/plain": [
       "             职位名称              公司名称 工作城市   薪资范围   学历要求  公司类型      公司规模  \\\n",
       "0  在家作业/网上兼职/线上操作  中环汇峰环境科技(北京)有限公司   北京  8千-1万  初中及以下    其它     20人以下   \n",
       "1            送货司机  中融永信(北京)投资管理有限公司   北京  4千-6千  初中及以下    其它  500-999人   \n",
       "2              警卫           美国驻华大使馆   北京  6千-8千  初中及以下  国家机关  100-299人   \n",
       "3       Bodyguard           美国驻华大使馆   北京  8千-1万  初中及以下  国家机关  100-299人   \n",
       "4  在家作业/网上兼职/线上操作  中环汇峰环境科技(北京)有限公司   北京  8千-1万  初中及以下    其它     20人以下   \n",
       "\n",
       "         职位类别  工作经验                                       福利待遇  \n",
       "0      技工/操作工    不限                         五险一金,加班补助,全勤奖,绩效奖金  \n",
       "1      技工/操作工  1-3年                       包吃,包住,节日福利,带薪年假,上六休一  \n",
       "2    行政/后勤/文秘  1年以下                             五险一金,加班补助,带薪年假  \n",
       "3  社区/居民/家政服务  3-5年  五险一金,带薪年假,年底双薪,补充医疗保险,定期体检,不加班,周末双休,试用期全额  \n",
       "4      技工/操作工    不限                         五险一金,加班补助,全勤奖,绩效奖金  "
      ]
     },
     "execution_count": 3,
     "metadata": {},
     "output_type": "execute_result"
    }
   ],
   "source": [
    "del data['_id']\n",
    "data.head(5)"
   ]
  },
  {
   "cell_type": "code",
   "execution_count": 4,
   "metadata": {},
   "outputs": [
    {
     "data": {
      "text/plain": [
       "(116574, 10)"
      ]
     },
     "execution_count": 4,
     "metadata": {},
     "output_type": "execute_result"
    }
   ],
   "source": [
    "data.drop_duplicates(subset=['公司名称','职位名称'],inplace=True)\n",
    "data.shape"
   ]
  },
  {
   "cell_type": "code",
   "execution_count": 5,
   "metadata": {},
   "outputs": [
    {
     "data": {
      "text/plain": [
       "1-3年     35629\n",
       "不限       33560\n",
       "3-5年     21384\n",
       "5-10年     9452\n",
       "无经验       6782\n",
       "          4292\n",
       "1年以下      3913\n",
       "10年以上     1562\n",
       "Name: 工作经验, dtype: int64"
      ]
     },
     "execution_count": 5,
     "metadata": {},
     "output_type": "execute_result"
    }
   ],
   "source": [
    "data['工作经验'].value_counts()"
   ]
  },
  {
   "cell_type": "code",
   "execution_count": 6,
   "metadata": {},
   "outputs": [],
   "source": [
    "data['工作经验'].replace('', np.nan, inplace=True)\n",
    "data.dropna(subset=['工作经验'], inplace=True)"
   ]
  },
  {
   "cell_type": "code",
   "execution_count": 7,
   "metadata": {},
   "outputs": [
    {
     "data": {
      "text/html": [
       "<div>\n",
       "<style scoped>\n",
       "    .dataframe tbody tr th:only-of-type {\n",
       "        vertical-align: middle;\n",
       "    }\n",
       "\n",
       "    .dataframe tbody tr th {\n",
       "        vertical-align: top;\n",
       "    }\n",
       "\n",
       "    .dataframe thead th {\n",
       "        text-align: right;\n",
       "    }\n",
       "</style>\n",
       "<table border=\"1\" class=\"dataframe\">\n",
       "  <thead>\n",
       "    <tr style=\"text-align: right;\">\n",
       "      <th></th>\n",
       "      <th>职位名称</th>\n",
       "      <th>公司名称</th>\n",
       "      <th>工作城市</th>\n",
       "      <th>薪资范围</th>\n",
       "      <th>学历要求</th>\n",
       "      <th>公司类型</th>\n",
       "      <th>公司规模</th>\n",
       "      <th>职位类别</th>\n",
       "      <th>工作经验</th>\n",
       "      <th>福利待遇</th>\n",
       "    </tr>\n",
       "  </thead>\n",
       "  <tbody>\n",
       "    <tr>\n",
       "      <td>28</td>\n",
       "      <td>正式员工-西餐厨师/(MUJI com北京京东店)</td>\n",
       "      <td>无印良品（上海）商业有限公司</td>\n",
       "      <td>北京</td>\n",
       "      <td>面议</td>\n",
       "      <td>初中及以下</td>\n",
       "      <td>外商独资</td>\n",
       "      <td>1000-9999人</td>\n",
       "      <td>烹饪/料理/食品研发</td>\n",
       "      <td>无经验</td>\n",
       "      <td></td>\n",
       "    </tr>\n",
       "    <tr>\n",
       "      <td>72</td>\n",
       "      <td>饮水机维修员</td>\n",
       "      <td>广州屈臣氏食品饮料有限公司</td>\n",
       "      <td>北京</td>\n",
       "      <td>面议</td>\n",
       "      <td>初中及以下</td>\n",
       "      <td>合资</td>\n",
       "      <td>1000-9999人</td>\n",
       "      <td>电子/电器/半导体/仪器仪表</td>\n",
       "      <td>1-3年</td>\n",
       "      <td>五险一金,年底双薪,带薪年假,补充医疗保险,定期体检,免费班车,交通补助</td>\n",
       "    </tr>\n",
       "    <tr>\n",
       "      <td>668</td>\n",
       "      <td>央企诚聘帮厨（包食宿）</td>\n",
       "      <td>中冶置业集团</td>\n",
       "      <td>北京</td>\n",
       "      <td>面议</td>\n",
       "      <td>初中及以下</td>\n",
       "      <td>国企</td>\n",
       "      <td>500-999人</td>\n",
       "      <td>烹饪/料理/食品研发</td>\n",
       "      <td>1-3年</td>\n",
       "      <td>定期体检,带薪年假,包吃,包住,交通补助,弹性工作</td>\n",
       "    </tr>\n",
       "    <tr>\n",
       "      <td>2409</td>\n",
       "      <td>店员/营业员</td>\n",
       "      <td>美团（中国大陆地区）</td>\n",
       "      <td>北京</td>\n",
       "      <td>面议</td>\n",
       "      <td>高中</td>\n",
       "      <td>上市公司</td>\n",
       "      <td>10000人以上</td>\n",
       "      <td>商超/酒店/娱乐管理/服务</td>\n",
       "      <td>不限</td>\n",
       "      <td>绩效奖金</td>\n",
       "    </tr>\n",
       "    <tr>\n",
       "      <td>2494</td>\n",
       "      <td>弱电维修工</td>\n",
       "      <td>远洋集团</td>\n",
       "      <td>北京</td>\n",
       "      <td>面议</td>\n",
       "      <td>高中</td>\n",
       "      <td>上市公司</td>\n",
       "      <td>10000人以上</td>\n",
       "      <td>土木/建筑/装修/市政工程</td>\n",
       "      <td>1-3年</td>\n",
       "      <td>五险一金,绩效奖金,带薪年假,包住,餐补,通讯补助</td>\n",
       "    </tr>\n",
       "  </tbody>\n",
       "</table>\n",
       "</div>"
      ],
      "text/plain": [
       "                           职位名称            公司名称 工作城市 薪资范围   学历要求  公司类型  \\\n",
       "28    正式员工-西餐厨师/(MUJI com北京京东店)  无印良品（上海）商业有限公司   北京   面议  初中及以下  外商独资   \n",
       "72                       饮水机维修员   广州屈臣氏食品饮料有限公司   北京   面议  初中及以下    合资   \n",
       "668                 央企诚聘帮厨（包食宿）          中冶置业集团   北京   面议  初中及以下    国企   \n",
       "2409                     店员/营业员      美团（中国大陆地区）   北京   面议     高中  上市公司   \n",
       "2494                      弱电维修工            远洋集团   北京   面议     高中  上市公司   \n",
       "\n",
       "            公司规模            职位类别  工作经验                                  福利待遇  \n",
       "28    1000-9999人      烹饪/料理/食品研发   无经验                                        \n",
       "72    1000-9999人  电子/电器/半导体/仪器仪表  1-3年  五险一金,年底双薪,带薪年假,补充医疗保险,定期体检,免费班车,交通补助  \n",
       "668     500-999人      烹饪/料理/食品研发  1-3年             定期体检,带薪年假,包吃,包住,交通补助,弹性工作  \n",
       "2409    10000人以上   商超/酒店/娱乐管理/服务    不限                                  绩效奖金  \n",
       "2494    10000人以上   土木/建筑/装修/市政工程  1-3年             五险一金,绩效奖金,带薪年假,包住,餐补,通讯补助  "
      ]
     },
     "execution_count": 7,
     "metadata": {},
     "output_type": "execute_result"
    }
   ],
   "source": [
    "temp = data[data['薪资范围'].isin(['面议'])]\n",
    "temp.head(5)"
   ]
  },
  {
   "cell_type": "code",
   "execution_count": 8,
   "metadata": {},
   "outputs": [],
   "source": [
    "df = data[~data['薪资范围'].isin(['面议'])] "
   ]
  },
  {
   "cell_type": "code",
   "execution_count": 9,
   "metadata": {},
   "outputs": [
    {
     "data": {
      "text/plain": [
       "0         [80000.0, 10000.0]\n",
       "1           [4000.0, 6000.0]\n",
       "2           [6000.0, 8000.0]\n",
       "3         [80000.0, 10000.0]\n",
       "6         [10000.0, 15000.0]\n",
       "                 ...        \n",
       "302963    [12000.0, 24000.0]\n",
       "302964    [30000.0, 50000.0]\n",
       "302965              [1000.0]\n",
       "302966    [25000.0, 50000.0]\n",
       "302978    [25000.0, 30000.0]\n",
       "Name: 薪资范围, Length: 108870, dtype: object"
      ]
     },
     "execution_count": 9,
     "metadata": {},
     "output_type": "execute_result"
    }
   ],
   "source": [
    "def split_money(x):\n",
    "    try:\n",
    "        if x[1] == '万' or x[2] == '万' or x[3] == '万' or x[-2] == '万' or x[-1] == '万':\n",
    "            sal = [float(i)*10000 for i in re.findall(\"[0-9]+\\.?[0-9]*\",x)]\n",
    "        elif x[1] == '千' or x[3] == '千' or x[-2] == '千' or x[-1] == '千':\n",
    "            sal = [float(i)*1000 for i in re.findall(\"[0-9]+\\.?[0-9]*\",x)]\n",
    "        else:\n",
    "            pass\n",
    "        return sal\n",
    "    except Exception as a:\n",
    "        print(a)\n",
    "        return x\n",
    "                    \n",
    "salary = df['薪资范围'].apply(split_money)\n",
    "salary"
   ]
  },
  {
   "cell_type": "code",
   "execution_count": null,
   "metadata": {},
   "outputs": [],
   "source": []
  }
 ],
 "metadata": {
  "kernelspec": {
   "display_name": "Python 3",
   "language": "python",
   "name": "python3"
  },
  "language_info": {
   "codemirror_mode": {
    "name": "ipython",
    "version": 3
   },
   "file_extension": ".py",
   "mimetype": "text/x-python",
   "name": "python",
   "nbconvert_exporter": "python",
   "pygments_lexer": "ipython3",
   "version": "3.7.4"
  }
 },
 "nbformat": 4,
 "nbformat_minor": 2
}
